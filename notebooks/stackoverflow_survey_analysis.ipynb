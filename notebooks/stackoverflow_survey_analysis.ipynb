{
 "cells": [
  {
   "cell_type": "markdown",
   "metadata": {},
   "source": [
    "# Stackoverflow 2019 Survey results analysis and insights extraction about OSS contributions\n",
    "This project follows the [CRISP-DM](https://www.datasciencecentral.com/profiles/blogs/crisp-dm-a-standard-methodology-to-ensure-a-good-outcome) process to answer the followig questions:\n",
    "   - How often do developers contribute to OSS?\n",
    "   - Do Hobyist developers contribute more often to OSS?\n",
    "   - Does OSS quality perception play a bias role towards OSS contribution?\n",
    "   - Are experienced developers contributing more frequently to OSS?\n",
    "   - Do developers contributing to the OSS have a higher income?"
   ]
  },
  {
   "cell_type": "code",
   "execution_count": 1,
   "metadata": {},
   "outputs": [],
   "source": [
    "%load_ext autoreload\n",
    "%autoreload 2\n",
    "import pandas as pd\n",
    "import seaborn as sns\n",
    "import matplotlib.pyplot as plt\n",
    "import numpy as np\n",
    "import utils"
   ]
  },
  {
   "cell_type": "markdown",
   "metadata": {},
   "source": [
    "# 1. Data understanding"
   ]
  },
  {
   "cell_type": "code",
   "execution_count": 2,
   "metadata": {},
   "outputs": [
    {
     "data": {
      "text/plain": [
       "(88883, 85)"
      ]
     },
     "execution_count": 2,
     "metadata": {},
     "output_type": "execute_result"
    }
   ],
   "source": [
    "df = pd.read_csv(\"../data/so_survey_2019/survey_results_public.csv\")\n",
    "schema = pd.read_csv(\"../data/so_survey_2019/survey_results_schema.csv\")\n",
    "eu_countries = pd.read_csv(\"../data/listofeucountries.csv\")\n",
    "df.shape"
   ]
  },
  {
   "cell_type": "code",
   "execution_count": 3,
   "metadata": {},
   "outputs": [
    {
     "data": {
      "text/html": [
       "<div>\n",
       "<style scoped>\n",
       "    .dataframe tbody tr th:only-of-type {\n",
       "        vertical-align: middle;\n",
       "    }\n",
       "\n",
       "    .dataframe tbody tr th {\n",
       "        vertical-align: top;\n",
       "    }\n",
       "\n",
       "    .dataframe thead th {\n",
       "        text-align: right;\n",
       "    }\n",
       "</style>\n",
       "<table border=\"1\" class=\"dataframe\">\n",
       "  <thead>\n",
       "    <tr style=\"text-align: right;\">\n",
       "      <th></th>\n",
       "      <th>Column</th>\n",
       "      <th>QuestionText</th>\n",
       "    </tr>\n",
       "  </thead>\n",
       "  <tbody>\n",
       "    <tr>\n",
       "      <th>0</th>\n",
       "      <td>Respondent</td>\n",
       "      <td>Randomized respondent ID number (not in order ...</td>\n",
       "    </tr>\n",
       "    <tr>\n",
       "      <th>1</th>\n",
       "      <td>MainBranch</td>\n",
       "      <td>Which of the following options best describes ...</td>\n",
       "    </tr>\n",
       "    <tr>\n",
       "      <th>2</th>\n",
       "      <td>Hobbyist</td>\n",
       "      <td>Do you code as a hobby?</td>\n",
       "    </tr>\n",
       "    <tr>\n",
       "      <th>3</th>\n",
       "      <td>OpenSourcer</td>\n",
       "      <td>How often do you contribute to open source?</td>\n",
       "    </tr>\n",
       "    <tr>\n",
       "      <th>4</th>\n",
       "      <td>OpenSource</td>\n",
       "      <td>How do you feel about the quality of open sour...</td>\n",
       "    </tr>\n",
       "  </tbody>\n",
       "</table>\n",
       "</div>"
      ],
      "text/plain": [
       "        Column                                       QuestionText\n",
       "0   Respondent  Randomized respondent ID number (not in order ...\n",
       "1   MainBranch  Which of the following options best describes ...\n",
       "2     Hobbyist                            Do you code as a hobby?\n",
       "3  OpenSourcer        How often do you contribute to open source?\n",
       "4   OpenSource  How do you feel about the quality of open sour..."
      ]
     },
     "execution_count": 3,
     "metadata": {},
     "output_type": "execute_result"
    }
   ],
   "source": [
    "schema.head()"
   ]
  },
  {
   "cell_type": "code",
   "execution_count": 4,
   "metadata": {},
   "outputs": [
    {
     "data": {
      "text/html": [
       "<div>\n",
       "<style scoped>\n",
       "    .dataframe tbody tr th:only-of-type {\n",
       "        vertical-align: middle;\n",
       "    }\n",
       "\n",
       "    .dataframe tbody tr th {\n",
       "        vertical-align: top;\n",
       "    }\n",
       "\n",
       "    .dataframe thead th {\n",
       "        text-align: right;\n",
       "    }\n",
       "</style>\n",
       "<table border=\"1\" class=\"dataframe\">\n",
       "  <thead>\n",
       "    <tr style=\"text-align: right;\">\n",
       "      <th></th>\n",
       "      <th>Respondent</th>\n",
       "      <th>MainBranch</th>\n",
       "      <th>Hobbyist</th>\n",
       "      <th>OpenSourcer</th>\n",
       "      <th>OpenSource</th>\n",
       "      <th>Employment</th>\n",
       "      <th>Country</th>\n",
       "      <th>Student</th>\n",
       "      <th>EdLevel</th>\n",
       "      <th>UndergradMajor</th>\n",
       "      <th>...</th>\n",
       "      <th>WelcomeChange</th>\n",
       "      <th>SONewContent</th>\n",
       "      <th>Age</th>\n",
       "      <th>Gender</th>\n",
       "      <th>Trans</th>\n",
       "      <th>Sexuality</th>\n",
       "      <th>Ethnicity</th>\n",
       "      <th>Dependents</th>\n",
       "      <th>SurveyLength</th>\n",
       "      <th>SurveyEase</th>\n",
       "    </tr>\n",
       "  </thead>\n",
       "  <tbody>\n",
       "    <tr>\n",
       "      <th>0</th>\n",
       "      <td>1</td>\n",
       "      <td>I am a student who is learning to code</td>\n",
       "      <td>Yes</td>\n",
       "      <td>Never</td>\n",
       "      <td>The quality of OSS and closed source software ...</td>\n",
       "      <td>Not employed, and not looking for work</td>\n",
       "      <td>United Kingdom</td>\n",
       "      <td>No</td>\n",
       "      <td>Primary/elementary school</td>\n",
       "      <td>NaN</td>\n",
       "      <td>...</td>\n",
       "      <td>Just as welcome now as I felt last year</td>\n",
       "      <td>Tech articles written by other developers;Indu...</td>\n",
       "      <td>14.0</td>\n",
       "      <td>Man</td>\n",
       "      <td>No</td>\n",
       "      <td>Straight / Heterosexual</td>\n",
       "      <td>NaN</td>\n",
       "      <td>No</td>\n",
       "      <td>Appropriate in length</td>\n",
       "      <td>Neither easy nor difficult</td>\n",
       "    </tr>\n",
       "    <tr>\n",
       "      <th>1</th>\n",
       "      <td>2</td>\n",
       "      <td>I am a student who is learning to code</td>\n",
       "      <td>No</td>\n",
       "      <td>Less than once per year</td>\n",
       "      <td>The quality of OSS and closed source software ...</td>\n",
       "      <td>Not employed, but looking for work</td>\n",
       "      <td>Bosnia and Herzegovina</td>\n",
       "      <td>Yes, full-time</td>\n",
       "      <td>Secondary school (e.g. American high school, G...</td>\n",
       "      <td>NaN</td>\n",
       "      <td>...</td>\n",
       "      <td>Just as welcome now as I felt last year</td>\n",
       "      <td>Tech articles written by other developers;Indu...</td>\n",
       "      <td>19.0</td>\n",
       "      <td>Man</td>\n",
       "      <td>No</td>\n",
       "      <td>Straight / Heterosexual</td>\n",
       "      <td>NaN</td>\n",
       "      <td>No</td>\n",
       "      <td>Appropriate in length</td>\n",
       "      <td>Neither easy nor difficult</td>\n",
       "    </tr>\n",
       "    <tr>\n",
       "      <th>2</th>\n",
       "      <td>3</td>\n",
       "      <td>I am not primarily a developer, but I write co...</td>\n",
       "      <td>Yes</td>\n",
       "      <td>Never</td>\n",
       "      <td>The quality of OSS and closed source software ...</td>\n",
       "      <td>Employed full-time</td>\n",
       "      <td>Thailand</td>\n",
       "      <td>No</td>\n",
       "      <td>Bachelor’s degree (BA, BS, B.Eng., etc.)</td>\n",
       "      <td>Web development or web design</td>\n",
       "      <td>...</td>\n",
       "      <td>Just as welcome now as I felt last year</td>\n",
       "      <td>Tech meetups or events in your area;Courses on...</td>\n",
       "      <td>28.0</td>\n",
       "      <td>Man</td>\n",
       "      <td>No</td>\n",
       "      <td>Straight / Heterosexual</td>\n",
       "      <td>NaN</td>\n",
       "      <td>Yes</td>\n",
       "      <td>Appropriate in length</td>\n",
       "      <td>Neither easy nor difficult</td>\n",
       "    </tr>\n",
       "    <tr>\n",
       "      <th>3</th>\n",
       "      <td>4</td>\n",
       "      <td>I am a developer by profession</td>\n",
       "      <td>No</td>\n",
       "      <td>Never</td>\n",
       "      <td>The quality of OSS and closed source software ...</td>\n",
       "      <td>Employed full-time</td>\n",
       "      <td>United States</td>\n",
       "      <td>No</td>\n",
       "      <td>Bachelor’s degree (BA, BS, B.Eng., etc.)</td>\n",
       "      <td>Computer science, computer engineering, or sof...</td>\n",
       "      <td>...</td>\n",
       "      <td>Just as welcome now as I felt last year</td>\n",
       "      <td>Tech articles written by other developers;Indu...</td>\n",
       "      <td>22.0</td>\n",
       "      <td>Man</td>\n",
       "      <td>No</td>\n",
       "      <td>Straight / Heterosexual</td>\n",
       "      <td>White or of European descent</td>\n",
       "      <td>No</td>\n",
       "      <td>Appropriate in length</td>\n",
       "      <td>Easy</td>\n",
       "    </tr>\n",
       "    <tr>\n",
       "      <th>4</th>\n",
       "      <td>5</td>\n",
       "      <td>I am a developer by profession</td>\n",
       "      <td>Yes</td>\n",
       "      <td>Once a month or more often</td>\n",
       "      <td>OSS is, on average, of HIGHER quality than pro...</td>\n",
       "      <td>Employed full-time</td>\n",
       "      <td>Ukraine</td>\n",
       "      <td>No</td>\n",
       "      <td>Bachelor’s degree (BA, BS, B.Eng., etc.)</td>\n",
       "      <td>Computer science, computer engineering, or sof...</td>\n",
       "      <td>...</td>\n",
       "      <td>Just as welcome now as I felt last year</td>\n",
       "      <td>Tech meetups or events in your area;Courses on...</td>\n",
       "      <td>30.0</td>\n",
       "      <td>Man</td>\n",
       "      <td>No</td>\n",
       "      <td>Straight / Heterosexual</td>\n",
       "      <td>White or of European descent;Multiracial</td>\n",
       "      <td>No</td>\n",
       "      <td>Appropriate in length</td>\n",
       "      <td>Easy</td>\n",
       "    </tr>\n",
       "  </tbody>\n",
       "</table>\n",
       "<p>5 rows × 85 columns</p>\n",
       "</div>"
      ],
      "text/plain": [
       "   Respondent                                         MainBranch Hobbyist  \\\n",
       "0           1             I am a student who is learning to code      Yes   \n",
       "1           2             I am a student who is learning to code       No   \n",
       "2           3  I am not primarily a developer, but I write co...      Yes   \n",
       "3           4                     I am a developer by profession       No   \n",
       "4           5                     I am a developer by profession      Yes   \n",
       "\n",
       "                  OpenSourcer  \\\n",
       "0                       Never   \n",
       "1     Less than once per year   \n",
       "2                       Never   \n",
       "3                       Never   \n",
       "4  Once a month or more often   \n",
       "\n",
       "                                          OpenSource  \\\n",
       "0  The quality of OSS and closed source software ...   \n",
       "1  The quality of OSS and closed source software ...   \n",
       "2  The quality of OSS and closed source software ...   \n",
       "3  The quality of OSS and closed source software ...   \n",
       "4  OSS is, on average, of HIGHER quality than pro...   \n",
       "\n",
       "                               Employment                 Country  \\\n",
       "0  Not employed, and not looking for work          United Kingdom   \n",
       "1      Not employed, but looking for work  Bosnia and Herzegovina   \n",
       "2                      Employed full-time                Thailand   \n",
       "3                      Employed full-time           United States   \n",
       "4                      Employed full-time                 Ukraine   \n",
       "\n",
       "          Student                                            EdLevel  \\\n",
       "0              No                          Primary/elementary school   \n",
       "1  Yes, full-time  Secondary school (e.g. American high school, G...   \n",
       "2              No           Bachelor’s degree (BA, BS, B.Eng., etc.)   \n",
       "3              No           Bachelor’s degree (BA, BS, B.Eng., etc.)   \n",
       "4              No           Bachelor’s degree (BA, BS, B.Eng., etc.)   \n",
       "\n",
       "                                      UndergradMajor  ...  \\\n",
       "0                                                NaN  ...   \n",
       "1                                                NaN  ...   \n",
       "2                      Web development or web design  ...   \n",
       "3  Computer science, computer engineering, or sof...  ...   \n",
       "4  Computer science, computer engineering, or sof...  ...   \n",
       "\n",
       "                             WelcomeChange  \\\n",
       "0  Just as welcome now as I felt last year   \n",
       "1  Just as welcome now as I felt last year   \n",
       "2  Just as welcome now as I felt last year   \n",
       "3  Just as welcome now as I felt last year   \n",
       "4  Just as welcome now as I felt last year   \n",
       "\n",
       "                                        SONewContent   Age Gender Trans  \\\n",
       "0  Tech articles written by other developers;Indu...  14.0    Man    No   \n",
       "1  Tech articles written by other developers;Indu...  19.0    Man    No   \n",
       "2  Tech meetups or events in your area;Courses on...  28.0    Man    No   \n",
       "3  Tech articles written by other developers;Indu...  22.0    Man    No   \n",
       "4  Tech meetups or events in your area;Courses on...  30.0    Man    No   \n",
       "\n",
       "                 Sexuality                                 Ethnicity  \\\n",
       "0  Straight / Heterosexual                                       NaN   \n",
       "1  Straight / Heterosexual                                       NaN   \n",
       "2  Straight / Heterosexual                                       NaN   \n",
       "3  Straight / Heterosexual              White or of European descent   \n",
       "4  Straight / Heterosexual  White or of European descent;Multiracial   \n",
       "\n",
       "  Dependents           SurveyLength                  SurveyEase  \n",
       "0         No  Appropriate in length  Neither easy nor difficult  \n",
       "1         No  Appropriate in length  Neither easy nor difficult  \n",
       "2        Yes  Appropriate in length  Neither easy nor difficult  \n",
       "3         No  Appropriate in length                        Easy  \n",
       "4         No  Appropriate in length                        Easy  \n",
       "\n",
       "[5 rows x 85 columns]"
      ]
     },
     "execution_count": 4,
     "metadata": {},
     "output_type": "execute_result"
    }
   ],
   "source": [
    "df.head()"
   ]
  },
  {
   "cell_type": "code",
   "execution_count": 5,
   "metadata": {},
   "outputs": [
    {
     "data": {
      "text/plain": [
       "Index(['Respondent', 'MainBranch', 'Hobbyist', 'OpenSourcer', 'OpenSource',\n",
       "       'Employment', 'Country', 'Student', 'EdLevel', 'UndergradMajor',\n",
       "       'EduOther', 'OrgSize', 'DevType', 'YearsCode', 'Age1stCode',\n",
       "       'YearsCodePro', 'CareerSat', 'JobSat', 'MgrIdiot', 'MgrMoney',\n",
       "       'MgrWant', 'JobSeek', 'LastHireDate', 'LastInt', 'FizzBuzz',\n",
       "       'JobFactors', 'ResumeUpdate', 'CurrencySymbol', 'CurrencyDesc',\n",
       "       'CompTotal', 'CompFreq', 'ConvertedComp', 'WorkWeekHrs', 'WorkPlan',\n",
       "       'WorkChallenge', 'WorkRemote', 'WorkLoc', 'ImpSyn', 'CodeRev',\n",
       "       'CodeRevHrs', 'UnitTests', 'PurchaseHow', 'PurchaseWhat',\n",
       "       'LanguageWorkedWith', 'LanguageDesireNextYear', 'DatabaseWorkedWith',\n",
       "       'DatabaseDesireNextYear', 'PlatformWorkedWith',\n",
       "       'PlatformDesireNextYear', 'WebFrameWorkedWith',\n",
       "       'WebFrameDesireNextYear', 'MiscTechWorkedWith',\n",
       "       'MiscTechDesireNextYear', 'DevEnviron', 'OpSys', 'Containers',\n",
       "       'BlockchainOrg', 'BlockchainIs', 'BetterLife', 'ITperson', 'OffOn',\n",
       "       'SocialMedia', 'Extraversion', 'ScreenName', 'SOVisit1st',\n",
       "       'SOVisitFreq', 'SOVisitTo', 'SOFindAnswer', 'SOTimeSaved',\n",
       "       'SOHowMuchTime', 'SOAccount', 'SOPartFreq', 'SOJobs', 'EntTeams',\n",
       "       'SOComm', 'WelcomeChange', 'SONewContent', 'Age', 'Gender', 'Trans',\n",
       "       'Sexuality', 'Ethnicity', 'Dependents', 'SurveyLength', 'SurveyEase'],\n",
       "      dtype='object')"
      ]
     },
     "execution_count": 5,
     "metadata": {},
     "output_type": "execute_result"
    }
   ],
   "source": [
    "df.columns"
   ]
  },
  {
   "cell_type": "code",
   "execution_count": 6,
   "metadata": {},
   "outputs": [
    {
     "data": {
      "text/plain": [
       "1        Developer, desktop or enterprise applications;...\n",
       "2        Designer;Developer, back-end;Developer, front-...\n",
       "3                                    Developer, full-stack\n",
       "4        Academic researcher;Developer, desktop or ente...\n",
       "5        Data or business analyst;Data scientist or mac...\n",
       "                               ...                        \n",
       "88871                                              Student\n",
       "88872    Academic researcher;Designer;Developer, game o...\n",
       "88875                                  Academic researcher\n",
       "88876    Designer;Developer, front-end;Developer, full-...\n",
       "88877    Developer, back-end;Developer, desktop or ente...\n",
       "Name: DevType, Length: 81335, dtype: object"
      ]
     },
     "execution_count": 6,
     "metadata": {},
     "output_type": "execute_result"
    }
   ],
   "source": [
    "df['DevType'].dropna()"
   ]
  },
  {
   "cell_type": "markdown",
   "metadata": {},
   "source": [
    "## Check the ratio of missing values in each column"
   ]
  },
  {
   "cell_type": "code",
   "execution_count": 7,
   "metadata": {},
   "outputs": [
    {
     "data": {
      "text/plain": [
       "BlockchainOrg             45.80\n",
       "CodeRevHrs                43.98\n",
       "ConvertedComp             37.19\n",
       "CompTotal                 37.06\n",
       "MiscTechWorkedWith        32.96\n",
       "BlockchainIs              32.31\n",
       "PurchaseHow               31.25\n",
       "MgrMoney                  31.19\n",
       "MgrIdiot                  31.19\n",
       "MgrWant                   31.11\n",
       "PurchaseWhat              30.21\n",
       "UnitTests                 29.49\n",
       "WebFrameDesireNextYear    29.18\n",
       "CompFreq                  28.82\n",
       "WorkWeekHrs               27.43\n",
       "dtype: float64"
      ]
     },
     "execution_count": 7,
     "metadata": {},
     "output_type": "execute_result"
    }
   ],
   "source": [
    "missing_values_mean = (df.isna().mean().round(4) * 100)\n",
    "missing_values_mean.sort_values(ascending=False)[:15]"
   ]
  },
  {
   "cell_type": "markdown",
   "metadata": {},
   "source": [
    "## Which columns have no missing values?"
   ]
  },
  {
   "cell_type": "code",
   "execution_count": 8,
   "metadata": {},
   "outputs": [
    {
     "name": "stdout",
     "output_type": "stream",
     "text": [
      "columns with no missing values:  {'OpenSourcer', 'Hobbyist', 'Respondent'}\n"
     ]
    }
   ],
   "source": [
    "print(\"columns with no missing values: \", set(df.columns[df.isnull().mean() == 0.0]))"
   ]
  },
  {
   "cell_type": "markdown",
   "metadata": {},
   "source": [
    "## Columns with less than 15% of the values are missing"
   ]
  },
  {
   "cell_type": "code",
   "execution_count": 9,
   "metadata": {},
   "outputs": [
    {
     "data": {
      "text/plain": [
       "{'Age',\n",
       " 'Age1stCode',\n",
       " 'BetterLife',\n",
       " 'Containers',\n",
       " 'Country',\n",
       " 'DatabaseWorkedWith',\n",
       " 'Dependents',\n",
       " 'DevEnviron',\n",
       " 'DevType',\n",
       " 'EdLevel',\n",
       " 'EduOther',\n",
       " 'Employment',\n",
       " 'EntTeams',\n",
       " 'Ethnicity',\n",
       " 'Extraversion',\n",
       " 'Gender',\n",
       " 'Hobbyist',\n",
       " 'ITperson',\n",
       " 'JobFactors',\n",
       " 'JobSeek',\n",
       " 'LanguageDesireNextYear',\n",
       " 'LanguageWorkedWith',\n",
       " 'LastHireDate',\n",
       " 'MainBranch',\n",
       " 'OffOn',\n",
       " 'OpSys',\n",
       " 'OpenSource',\n",
       " 'OpenSourcer',\n",
       " 'PlatformDesireNextYear',\n",
       " 'PlatformWorkedWith',\n",
       " 'Respondent',\n",
       " 'ResumeUpdate',\n",
       " 'SOAccount',\n",
       " 'SOComm',\n",
       " 'SOFindAnswer',\n",
       " 'SOJobs',\n",
       " 'SOTimeSaved',\n",
       " 'SOVisit1st',\n",
       " 'SOVisitFreq',\n",
       " 'SOVisitTo',\n",
       " 'ScreenName',\n",
       " 'Sexuality',\n",
       " 'SocialMedia',\n",
       " 'Student',\n",
       " 'SurveyEase',\n",
       " 'SurveyLength',\n",
       " 'Trans',\n",
       " 'UndergradMajor',\n",
       " 'WelcomeChange',\n",
       " 'YearsCode'}"
      ]
     },
     "execution_count": 9,
     "metadata": {},
     "output_type": "execute_result"
    }
   ],
   "source": [
    "set(missing_values_mean[missing_values_mean < 15].sort_values(ascending=True).index)"
   ]
  },
  {
   "cell_type": "markdown",
   "metadata": {},
   "source": [
    "# 2. Exploratory Data Analysis"
   ]
  },
  {
   "cell_type": "markdown",
   "metadata": {},
   "source": [
    "## Respondents Countries"
   ]
  },
  {
   "cell_type": "code",
   "execution_count": 10,
   "metadata": {},
   "outputs": [
    {
     "data": {
      "image/png": "[encoded data removed]",
      "text/plain": [
       "<Figure size 576x288 with 1 Axes>"
      ]
     },
     "metadata": {
      "needs_background": "light"
     },
     "output_type": "display_data"
    },
    {
     "name": "stdout",
     "output_type": "stream",
     "text": [
      "Total respondents in the USA 20949\n",
      "Total respondents in EU 24819\n"
     ]
    },
    {
     "data": {
      "text/plain": [
       "88751"
      ]
     },
     "execution_count": 10,
     "metadata": {},
     "output_type": "execute_result"
    }
   ],
   "source": [
    "countries_vals = df.Country.value_counts()\n",
    "countries_vals_percentage = (countries_vals[:15] * 100 / df.Country.dropna().shape[0])\n",
    "# colors_list = ['#5cb85c','#5bc0de','#d9534f']\n",
    "# ax = countries_vals_percentage.plot(kind=\"bar\", color = colors_list)\n",
    "\n",
    "ax = countries_vals_percentage.plot(kind=\"bar\", figsize=(8,4),\n",
    "                                    width = 0.8, edgecolor=None, color=\"steelblue\")\n",
    "plt.ylabel(\"Respondents %\")\n",
    "plt.title(\"Respondents % by Country: Total {}\".format(df.Country.dropna().shape[0]));\n",
    "plt.xticks(fontsize=10)\n",
    "\n",
    "nb_respondents = list(countries_vals[:15])\n",
    "utils.display_values_above_bars(ax, nb_respondents)\n",
    "plt.show()\n",
    "df_eu_respondents = df[df.Country.isin(eu_countries.x)]\n",
    "df_eu_respondents.Country.unique()\n",
    "total_eu_respondents = df_eu_respondents.Country.shape[0]\n",
    "print(\"Total respondents in the USA\", countries_vals[\"United States\"])\n",
    "print(\"Total respondents in EU\", total_eu_respondents)\n",
    "# sanity check\n",
    "df.Country.value_counts().sum()"
   ]
  },
  {
   "cell_type": "markdown",
   "metadata": {},
   "source": [
    "## Number of survey respondents from the EU coutries"
   ]
  },
  {
   "cell_type": "code",
   "execution_count": 11,
   "metadata": {},
   "outputs": [
    {
     "data": {
      "image/png": "[encoded data removed]",
      "text/plain": [
       "<Figure size 864x288 with 1 Axes>"
      ]
     },
     "metadata": {
      "needs_background": "light"
     },
     "output_type": "display_data"
    }
   ],
   "source": [
    "ax_eu = (df_eu_respondents.Country.value_counts() * 100 / df_eu_respondents.Country.dropna().shape[0]).plot(\n",
    "    kind=\"bar\", figsize=(12,4),\n",
    "    width = 0.8, edgecolor=None);\n",
    "# plt.axhline(y=0.05,color='gray',linestyle='--')\n",
    "# plt.axhline(y=0.1,color='gray',linestyle='--')\n",
    "plt.ylabel(\"Respondents %\")\n",
    "plt.title(\"Respondents % from EU countries\");\n",
    "utils.display_values_above_bars(ax_eu, list(df_eu_respondents.Country.value_counts()))\n",
    "plt.show()"
   ]
  },
  {
   "cell_type": "markdown",
   "metadata": {},
   "source": [
    "# LanguageWorkedWith"
   ]
  },
  {
   "cell_type": "code",
   "execution_count": 12,
   "metadata": {},
   "outputs": [
    {
     "data": {
      "text/plain": [
       "0                HTML/CSS;Java;JavaScript;Python\n",
       "1                            C++;HTML/CSS;Python\n",
       "2                                       HTML/CSS\n",
       "3                            C;C++;C#;Python;SQL\n",
       "4    C++;HTML/CSS;Java;JavaScript;Python;SQL;VBA\n",
       "Name: LanguageWorkedWith, dtype: object"
      ]
     },
     "execution_count": 12,
     "metadata": {},
     "output_type": "execute_result"
    }
   ],
   "source": [
    "df.LanguageWorkedWith.head()"
   ]
  },
  {
   "cell_type": "code",
   "execution_count": 13,
   "metadata": {},
   "outputs": [
    {
     "data": {
      "image/png": "[encoded data removed]",
      "text/plain": [
       "<Figure size 432x288 with 1 Axes>"
      ]
     },
     "metadata": {
      "needs_background": "light"
     },
     "output_type": "display_data"
    }
   ],
   "source": [
    "languages = df['LanguageWorkedWith'].dropna().apply(lambda row: str(row).split(';')).explode().unique()\n",
    "\n",
    "languages_worked_with = df['LanguageWorkedWith'].dropna()\n",
    "language_responses = languages_worked_with.count()\n",
    "\n",
    "languages_perc = {}\n",
    "languages_count = {}\n",
    "for language in languages:\n",
    "    languages_perc[language] = df[\"LanguageWorkedWith\"].str.contains(\n",
    "        language, regex=False, na=False).sum() / languages_worked_with.shape[0]\n",
    "    languages_count[language] = df[\"LanguageWorkedWith\"].str.contains(\n",
    "        language, regex=False, na=False).sum()\n",
    "languages_perc = utils.sort_dict_by_vals(languages_perc)\n",
    "languages_count = utils.sort_dict_by_vals(languages_count)\n",
    "\n",
    "plt.title(\"Programming, Scripting, and Markup Languages: {} Respondents\".format(df[\"LanguageWorkedWith\"].dropna().shape[0]))\n",
    "plt.xticks(rotation='vertical')\n",
    "plt.ylabel(\"Repondents %\")\n",
    "plt.bar(languages_perc.keys(), languages_perc.values(), width=0.8, edgecolor=None);"
   ]
  },
  {
   "cell_type": "markdown",
   "metadata": {},
   "source": [
    "# Developer Type: Which of the following describe you?"
   ]
  },
  {
   "cell_type": "code",
   "execution_count": 14,
   "metadata": {},
   "outputs": [
    {
     "data": {
      "text/plain": [
       "1        Developer, desktop or enterprise applications;...\n",
       "2        Designer;Developer, back-end;Developer, front-...\n",
       "3                                    Developer, full-stack\n",
       "4        Academic researcher;Developer, desktop or ente...\n",
       "5        Data or business analyst;Data scientist or mac...\n",
       "                               ...                        \n",
       "88871                                              Student\n",
       "88872    Academic researcher;Designer;Developer, game o...\n",
       "88875                                  Academic researcher\n",
       "88876    Designer;Developer, front-end;Developer, full-...\n",
       "88877    Developer, back-end;Developer, desktop or ente...\n",
       "Name: DevType, Length: 81335, dtype: object"
      ]
     },
     "execution_count": 14,
     "metadata": {},
     "output_type": "execute_result"
    }
   ],
   "source": [
    "devtypes = df['DevType'].dropna()\n",
    "devtypes"
   ]
  },
  {
   "cell_type": "code",
   "execution_count": 15,
   "metadata": {},
   "outputs": [
    {
     "name": "stdout",
     "output_type": "stream",
     "text": [
      "DevTypes list ['Developer, desktop or enterprise applications' 'Developer, front-end'\n",
      " 'Designer' 'Developer, back-end' 'Developer, full-stack'\n",
      " 'Academic researcher' 'Developer, mobile' 'Data or business analyst'\n",
      " 'Data scientist or machine learning specialist' 'Database administrator'\n",
      " 'Engineer, data' 'Engineer, site reliability' 'Developer, QA or test'\n",
      " 'DevOps specialist' 'Developer, game or graphics' 'Educator' 'Student'\n",
      " 'Engineering manager' 'Senior executive/VP' 'System administrator'\n",
      " 'Developer, embedded applications or devices' 'Product manager'\n",
      " 'Scientist' 'Marketing or sales professional']\n"
     ]
    }
   ],
   "source": [
    "devtypes_list = devtypes.apply(lambda row: str(row).split(';')).explode().unique()\n",
    "print(\"DevTypes list\", devtypes_list)"
   ]
  },
  {
   "cell_type": "code",
   "execution_count": 16,
   "metadata": {},
   "outputs": [
    {
     "data": {
      "text/plain": [
       "1        Developer, desktop or enterprise applications;...\n",
       "2        Designer;Developer, back-end;Developer, front-...\n",
       "3                                    Developer, full-stack\n",
       "4        Academic researcher;Developer, desktop or ente...\n",
       "5        Data or business analyst;Data scientist or mac...\n",
       "                               ...                        \n",
       "88871                                              Student\n",
       "88872    Academic researcher;Designer;Developer, game o...\n",
       "88875                                  Academic researcher\n",
       "88876    Designer;Developer, front-end;Developer, full-...\n",
       "88877    Developer, back-end;Developer, desktop or ente...\n",
       "Name: DevType, Length: 81335, dtype: object"
      ]
     },
     "execution_count": 16,
     "metadata": {},
     "output_type": "execute_result"
    }
   ],
   "source": [
    "not_na_devtypes = df['DevType'].dropna()\n",
    "not_na_devtypes"
   ]
  },
  {
   "cell_type": "code",
   "execution_count": 17,
   "metadata": {},
   "outputs": [
    {
     "name": "stdout",
     "output_type": "stream",
     "text": [
      "DevTypes list ['Developer, desktop or enterprise applications' 'Developer, front-end'\n",
      " 'Designer' 'Developer, back-end' 'Developer, full-stack'\n",
      " 'Academic researcher' 'Developer, mobile' 'Data or business analyst'\n",
      " 'Data scientist or machine learning specialist' 'Database administrator'\n",
      " 'Engineer, data' 'Engineer, site reliability' 'Developer, QA or test'\n",
      " 'DevOps specialist' 'Developer, game or graphics' 'Educator' 'Student'\n",
      " 'Engineering manager' 'Senior executive/VP' 'System administrator'\n",
      " 'Developer, embedded applications or devices' 'Product manager'\n",
      " 'Scientist' 'Marketing or sales professional']\n"
     ]
    }
   ],
   "source": [
    "devtypes_list = not_na_devtypes.apply(lambda row: str(row).split(';')).explode().unique()\n",
    "print(\"DevTypes list\", devtypes_list)"
   ]
  },
  {
   "cell_type": "code",
   "execution_count": 18,
   "metadata": {},
   "outputs": [
    {
     "data": {
      "image/png": "[encoded data removed]",
      "text/plain": [
       "<Figure size 432x288 with 1 Axes>"
      ]
     },
     "metadata": {
      "needs_background": "light"
     },
     "output_type": "display_data"
    },
    {
     "name": "stdout",
     "output_type": "stream",
     "text": [
      "\n",
      "Number of respondents:  81335\n",
      "\n",
      "Dev Types: {'Marketing or sales professional': 975, 'Senior executive/VP': 2107, 'Scientist': 3617, 'Product manager': 4032, 'Engineering manager': 4202, 'Educator': 4492, 'Academic researcher': 5930, 'Data or business analyst': 6294, 'Data scientist or machine learning specialist': 6460, 'DevOps specialist': 8862, 'System administrator': 8929, 'Designer': 9182, 'Database administrator': 9520, 'Engineer': 10975, 'Student': 11921, 'Developer': 72491}\n"
     ]
    }
   ],
   "source": [
    "# Get the developer type without the environment (after the comma e.g. Developer, desktop or enterprise applications)\n",
    "devtypes = set(dev.split(',')[0].strip() for dev in devtypes_list)\n",
    "devtype_count, devtype_perc = utils.count_substr_in_column(df, \"DevType\", devtypes, False)\n",
    "plt.xticks(rotation='vertical')\n",
    "plt.xlabel(\"Developers %\")\n",
    "plt.title(\"% of Respondents by Developer Type\")\n",
    "y_pos = np.arange(len(devtype_perc))\n",
    "ax_devs = plt.barh(y_pos, devtype_perc.values());\n",
    "plt.yticks(y_pos, devtype_perc.keys())\n",
    "plt.show()\n",
    "print(\"\\nNumber of respondents: \", df[\"DevType\"].dropna().shape[0])\n",
    "print(\"\\nDev Types:\", devtype_count)\n",
    "top8_devtypes = list(devtype_perc.keys())[:8]"
   ]
  },
  {
   "cell_type": "markdown",
   "metadata": {},
   "source": [
    "# Developers perception of the OSS quality"
   ]
  },
  {
   "cell_type": "code",
   "execution_count": 19,
   "metadata": {},
   "outputs": [
    {
     "name": "stdout",
     "output_type": "stream",
     "text": [
      "\n"
     ]
    },
    {
     "data": {
      "image/png": "[encoded data removed]",
      "text/plain": [
       "<Figure size 432x288 with 1 Axes>"
      ]
     },
     "metadata": {
      "needs_background": "light"
     },
     "output_type": "display_data"
    }
   ],
   "source": [
    "os_perception = (df.OpenSource.value_counts() * 100 / df.OpenSource.shape[0]).sort_values()\n",
    "os_perception.plot(kind=\"barh\");\n",
    "plt.title(\"Devleopers perception of the OSS quality\")\n",
    "plt.xlabel(\"Developers %\")\n",
    "plt.yticks(rotation=0, size=8)\n",
    "plt.get(\"Developers %\");"
   ]
  },
  {
   "cell_type": "markdown",
   "metadata": {},
   "source": [
    "# OpenSource contribution: \n",
    "The column OpenSource doesn't contain any missing value. All Respondents answered the corresponding question:\n",
    "How often do you contribute to open source?"
   ]
  },
  {
   "cell_type": "markdown",
   "metadata": {},
   "source": [
    "# 3. Evaluating results and sharing insights"
   ]
  },
  {
   "cell_type": "markdown",
   "metadata": {},
   "source": [
    "# <font color='red'>Question 1</font>\n",
    " <font color='red'> How often do developers contribute to OpenSource Software?  </font>"
   ]
  },
  {
   "cell_type": "code",
   "execution_count": 20,
   "metadata": {},
   "outputs": [
    {
     "data": {
      "image/png": "[encoded data removed]",
      "text/plain": [
       "<Figure size 432x288 with 1 Axes>"
      ]
     },
     "metadata": {},
     "output_type": "display_data"
    }
   ],
   "source": [
    "nb_opnesourcers = df.OpenSourcer.count()\n",
    "opensourcers_count = df.OpenSourcer.value_counts()\n",
    "colors = ['#ff9999','cornflowerblue','#ffcc99', '#99ff99']\n",
    "utils.plot_and_show_pie(opensourcers_count.index, opensourcers_count.values,\n",
    "                        \"Contribution Frequency to OSS: {} respondents\".format(df.Respondent.count()), 3, colors=colors);"
   ]
  },
  {
   "cell_type": "code",
   "execution_count": 21,
   "metadata": {},
   "outputs": [
    {
     "data": {
      "text/plain": [
       "Never                                                  36.334282\n",
       "Less than once per year                                28.095361\n",
       "Less than once a month\\nbut more than once per year    23.132658\n",
       "Once a month or more often                             12.437699\n",
       "Name: OpenSourcer, dtype: float64"
      ]
     },
     "execution_count": 21,
     "metadata": {},
     "output_type": "execute_result"
    }
   ],
   "source": [
    "df.OpenSourcer.replace({\n",
    "    \"Less than once a month but more than once per year\": \"Less than once a month\\nbut more than once per year\"},\n",
    "    inplace=True)\n",
    "df.OpenSourcer.value_counts() * 100 / df.shape[0]"
   ]
  },
  {
   "cell_type": "code",
   "execution_count": 22,
   "metadata": {},
   "outputs": [
    {
     "data": {
      "image/png": "[encoded data removed]",
      "text/plain": [
       "<Figure size 432x288 with 1 Axes>"
      ]
     },
     "metadata": {},
     "output_type": "display_data"
    }
   ],
   "source": [
    "colors_list = ['lightgray', 'lightsteelblue', 'mediumseagreen', 'steelblue', 'cornflowerblue', 'cornflowerblue']\n",
    "ax_oss_contributors = (df.OpenSourcer.value_counts() / df.shape[0]).plot(\n",
    "    kind=\"bar\",\n",
    "    edgecolor=None, figsize=(6,4), color=colors_list);\n",
    "plt.ylabel(\"Respondents %\")\n",
    "plt.xticks(rotation=30, ha=\"right\")\n",
    "ax_oss_contributors.set_xticklabels(list(df.OpenSourcer.unique()))\n",
    "plt.title(\"Percentage of respondents contributing to OSS:\\n total {}\".format(df.OpenSourcer.value_counts().sum()));\n",
    "utils.display_values_above_bars(ax_eu, list(df.OpenSourcer.value_counts()))\n",
    "ax_oss_contributors.get_xticklabels()[2].set_color(\"green\")\n",
    "ax_oss_contributors.get_xticklabels()[0].set_color(\"gray\")\n",
    "plt.show()"
   ]
  },
  {
   "cell_type": "markdown",
   "metadata": {},
   "source": [
    "# <font color='red'>Question 2 </font>\n",
    " <font color='red'> Do Hobbyist developers contribute more often to Open Source projects?</font>"
   ]
  },
  {
   "cell_type": "code",
   "execution_count": 23,
   "metadata": {},
   "outputs": [
    {
     "data": {
      "text/plain": [
       "array(['Yes', 'No'], dtype=object)"
      ]
     },
     "execution_count": 23,
     "metadata": {},
     "output_type": "execute_result"
    }
   ],
   "source": [
    "df.Hobbyist.unique()"
   ]
  },
  {
   "cell_type": "code",
   "execution_count": 24,
   "metadata": {},
   "outputs": [
    {
     "data": {
      "text/plain": [
       "Hobbyist\n",
       "No      9564\n",
       "Yes    22731\n",
       "Name: Respondent, dtype: int64"
      ]
     },
     "execution_count": 24,
     "metadata": {},
     "output_type": "execute_result"
    }
   ],
   "source": [
    "df[df.OpenSourcer == \"Never\"].groupby(\"Hobbyist\")[\"Respondent\"].count()"
   ]
  },
  {
   "cell_type": "code",
   "execution_count": 25,
   "metadata": {},
   "outputs": [
    {
     "data": {
      "text/html": [
       "<div>\n",
       "<style scoped>\n",
       "    .dataframe tbody tr th:only-of-type {\n",
       "        vertical-align: middle;\n",
       "    }\n",
       "\n",
       "    .dataframe tbody tr th {\n",
       "        vertical-align: top;\n",
       "    }\n",
       "\n",
       "    .dataframe thead th {\n",
       "        text-align: right;\n",
       "    }\n",
       "</style>\n",
       "<table border=\"1\" class=\"dataframe\">\n",
       "  <thead>\n",
       "    <tr style=\"text-align: right;\">\n",
       "      <th></th>\n",
       "      <th></th>\n",
       "      <th>Respondent</th>\n",
       "    </tr>\n",
       "    <tr>\n",
       "      <th>OpenSourcer</th>\n",
       "      <th>Hobbyist</th>\n",
       "      <th></th>\n",
       "    </tr>\n",
       "  </thead>\n",
       "  <tbody>\n",
       "    <tr>\n",
       "      <th rowspan=\"2\" valign=\"top\">Less than once a month\\nbut more than once per year</th>\n",
       "      <th>No</th>\n",
       "      <td>2346</td>\n",
       "    </tr>\n",
       "    <tr>\n",
       "      <th>Yes</th>\n",
       "      <td>18215</td>\n",
       "    </tr>\n",
       "    <tr>\n",
       "      <th rowspan=\"2\" valign=\"top\">Less than once per year</th>\n",
       "      <th>No</th>\n",
       "      <td>4586</td>\n",
       "    </tr>\n",
       "    <tr>\n",
       "      <th>Yes</th>\n",
       "      <td>20386</td>\n",
       "    </tr>\n",
       "    <tr>\n",
       "      <th rowspan=\"2\" valign=\"top\">Never</th>\n",
       "      <th>No</th>\n",
       "      <td>9564</td>\n",
       "    </tr>\n",
       "    <tr>\n",
       "      <th>Yes</th>\n",
       "      <td>22731</td>\n",
       "    </tr>\n",
       "    <tr>\n",
       "      <th rowspan=\"2\" valign=\"top\">Once a month or more often</th>\n",
       "      <th>No</th>\n",
       "      <td>1130</td>\n",
       "    </tr>\n",
       "    <tr>\n",
       "      <th>Yes</th>\n",
       "      <td>9925</td>\n",
       "    </tr>\n",
       "  </tbody>\n",
       "</table>\n",
       "</div>"
      ],
      "text/plain": [
       "                                                             Respondent\n",
       "OpenSourcer                                        Hobbyist            \n",
       "Less than once a month\\nbut more than once per ... No              2346\n",
       "                                                   Yes            18215\n",
       "Less than once per year                            No              4586\n",
       "                                                   Yes            20386\n",
       "Never                                              No              9564\n",
       "                                                   Yes            22731\n",
       "Once a month or more often                         No              1130\n",
       "                                                   Yes             9925"
      ]
     },
     "execution_count": 25,
     "metadata": {},
     "output_type": "execute_result"
    }
   ],
   "source": [
    "hobbyist_opensourcer = df.filter([\"Respondent\", \"OpenSourcer\", \"Hobbyist\"], axis=1).groupby(['OpenSourcer', 'Hobbyist']).count()\n",
    "hobbyist_opensourcer"
   ]
  },
  {
   "cell_type": "code",
   "execution_count": 26,
   "metadata": {},
   "outputs": [
    {
     "data": {
      "text/html": [
       "<div>\n",
       "<style scoped>\n",
       "    .dataframe tbody tr th:only-of-type {\n",
       "        vertical-align: middle;\n",
       "    }\n",
       "\n",
       "    .dataframe tbody tr th {\n",
       "        vertical-align: top;\n",
       "    }\n",
       "\n",
       "    .dataframe thead th {\n",
       "        text-align: right;\n",
       "    }\n",
       "</style>\n",
       "<table border=\"1\" class=\"dataframe\">\n",
       "  <thead>\n",
       "    <tr style=\"text-align: right;\">\n",
       "      <th></th>\n",
       "      <th>OpenSourcer</th>\n",
       "      <th>Hobbyist</th>\n",
       "      <th>Respondent</th>\n",
       "    </tr>\n",
       "  </thead>\n",
       "  <tbody>\n",
       "    <tr>\n",
       "      <th>0</th>\n",
       "      <td>Less than once a month\\nbut more than once per...</td>\n",
       "      <td>No</td>\n",
       "      <td>2346</td>\n",
       "    </tr>\n",
       "    <tr>\n",
       "      <th>1</th>\n",
       "      <td>Less than once a month\\nbut more than once per...</td>\n",
       "      <td>Yes</td>\n",
       "      <td>18215</td>\n",
       "    </tr>\n",
       "    <tr>\n",
       "      <th>2</th>\n",
       "      <td>Less than once per year</td>\n",
       "      <td>No</td>\n",
       "      <td>4586</td>\n",
       "    </tr>\n",
       "    <tr>\n",
       "      <th>3</th>\n",
       "      <td>Less than once per year</td>\n",
       "      <td>Yes</td>\n",
       "      <td>20386</td>\n",
       "    </tr>\n",
       "    <tr>\n",
       "      <th>4</th>\n",
       "      <td>Never</td>\n",
       "      <td>No</td>\n",
       "      <td>9564</td>\n",
       "    </tr>\n",
       "    <tr>\n",
       "      <th>5</th>\n",
       "      <td>Never</td>\n",
       "      <td>Yes</td>\n",
       "      <td>22731</td>\n",
       "    </tr>\n",
       "    <tr>\n",
       "      <th>6</th>\n",
       "      <td>Once a month or more often</td>\n",
       "      <td>No</td>\n",
       "      <td>1130</td>\n",
       "    </tr>\n",
       "    <tr>\n",
       "      <th>7</th>\n",
       "      <td>Once a month or more often</td>\n",
       "      <td>Yes</td>\n",
       "      <td>9925</td>\n",
       "    </tr>\n",
       "  </tbody>\n",
       "</table>\n",
       "</div>"
      ],
      "text/plain": [
       "                                         OpenSourcer Hobbyist  Respondent\n",
       "0  Less than once a month\\nbut more than once per...       No        2346\n",
       "1  Less than once a month\\nbut more than once per...      Yes       18215\n",
       "2                            Less than once per year       No        4586\n",
       "3                            Less than once per year      Yes       20386\n",
       "4                                              Never       No        9564\n",
       "5                                              Never      Yes       22731\n",
       "6                         Once a month or more often       No        1130\n",
       "7                         Once a month or more often      Yes        9925"
      ]
     },
     "execution_count": 26,
     "metadata": {},
     "output_type": "execute_result"
    }
   ],
   "source": [
    "hobbyist_opensourcer = hobbyist_opensourcer.reset_index()\n",
    "hobbyist_opensourcer"
   ]
  },
  {
   "cell_type": "code",
   "execution_count": 27,
   "metadata": {},
   "outputs": [
    {
     "data": {
      "image/png": "[encoded data removed]",
      "text/plain": [
       "<Figure size 432x288 with 1 Axes>"
      ]
     },
     "metadata": {
      "needs_background": "light"
     },
     "output_type": "display_data"
    }
   ],
   "source": [
    "hobbyist_opensourcer['Hobbyist'].replace({\"No\": \"Don't code as a Hobby\",\n",
    "                                \"Yes\": \"Code as a Hobby\"}, inplace=True)\n",
    "splot = utils.plot_grouped_bars(hobbyist_opensourcer, \"OpenSourcer\", \"Hobbyist\", \"Respondent\",\n",
    "                  title=\"Do Hobbyist contribute more to OSS?\",\n",
    "                        xlabel=\"\", ylabel=\"# Respondents\");\n",
    "splot.legend(loc='center left', bbox_to_anchor=(1.00, 0.5), ncol=1);"
   ]
  },
  {
   "cell_type": "markdown",
   "metadata": {},
   "source": [
    "# <font color='red'>Question 3</font>\n",
    "<font color='red'>Does OSS quality perception play a bias role towards OSS contribution</font>"
   ]
  },
  {
   "cell_type": "code",
   "execution_count": 28,
   "metadata": {},
   "outputs": [
    {
     "data": {
      "text/html": [
       "<div>\n",
       "<style scoped>\n",
       "    .dataframe tbody tr th:only-of-type {\n",
       "        vertical-align: middle;\n",
       "    }\n",
       "\n",
       "    .dataframe tbody tr th {\n",
       "        vertical-align: top;\n",
       "    }\n",
       "\n",
       "    .dataframe thead th {\n",
       "        text-align: right;\n",
       "    }\n",
       "</style>\n",
       "<table border=\"1\" class=\"dataframe\">\n",
       "  <thead>\n",
       "    <tr style=\"text-align: right;\">\n",
       "      <th></th>\n",
       "      <th></th>\n",
       "      <th>Respondent</th>\n",
       "    </tr>\n",
       "    <tr>\n",
       "      <th>OpenSourcer</th>\n",
       "      <th>OpenSource</th>\n",
       "      <th></th>\n",
       "    </tr>\n",
       "  </thead>\n",
       "  <tbody>\n",
       "    <tr>\n",
       "      <th rowspan=\"3\" valign=\"top\">Less than once a month\\nbut more than once per year</th>\n",
       "      <th>OSS is, on average, of HIGHER quality than proprietary / closed source software</th>\n",
       "      <td>8355</td>\n",
       "    </tr>\n",
       "    <tr>\n",
       "      <th>OSS is, on average, of LOWER quality than proprietary / closed source software</th>\n",
       "      <td>1505</td>\n",
       "    </tr>\n",
       "    <tr>\n",
       "      <th>The quality of OSS and closed source software is about the same</th>\n",
       "      <td>8136</td>\n",
       "    </tr>\n",
       "    <tr>\n",
       "      <th rowspan=\"3\" valign=\"top\">Less than once per year</th>\n",
       "      <th>OSS is, on average, of HIGHER quality than proprietary / closed source software</th>\n",
       "      <td>8437</td>\n",
       "    </tr>\n",
       "    <tr>\n",
       "      <th>OSS is, on average, of LOWER quality than proprietary / closed source software</th>\n",
       "      <td>1867</td>\n",
       "    </tr>\n",
       "    <tr>\n",
       "      <th>The quality of OSS and closed source software is about the same</th>\n",
       "      <td>9776</td>\n",
       "    </tr>\n",
       "    <tr>\n",
       "      <th rowspan=\"3\" valign=\"top\">Never</th>\n",
       "      <th>OSS is, on average, of HIGHER quality than proprietary / closed source software</th>\n",
       "      <td>8259</td>\n",
       "    </tr>\n",
       "    <tr>\n",
       "      <th>OSS is, on average, of LOWER quality than proprietary / closed source software</th>\n",
       "      <td>2542</td>\n",
       "    </tr>\n",
       "    <tr>\n",
       "      <th>The quality of OSS and closed source software is about the same</th>\n",
       "      <td>11115</td>\n",
       "    </tr>\n",
       "    <tr>\n",
       "      <th rowspan=\"3\" valign=\"top\">Once a month or more often</th>\n",
       "      <th>OSS is, on average, of HIGHER quality than proprietary / closed source software</th>\n",
       "      <td>5272</td>\n",
       "    </tr>\n",
       "    <tr>\n",
       "      <th>OSS is, on average, of LOWER quality than proprietary / closed source software</th>\n",
       "      <td>727</td>\n",
       "    </tr>\n",
       "    <tr>\n",
       "      <th>The quality of OSS and closed source software is about the same</th>\n",
       "      <td>3782</td>\n",
       "    </tr>\n",
       "  </tbody>\n",
       "</table>\n",
       "</div>"
      ],
      "text/plain": [
       "                                                                                                       Respondent\n",
       "OpenSourcer                                        OpenSource                                                    \n",
       "Less than once a month\\nbut more than once per ... OSS is, on average, of HIGHER quality than prop...        8355\n",
       "                                                   OSS is, on average, of LOWER quality than propr...        1505\n",
       "                                                   The quality of OSS and closed source software i...        8136\n",
       "Less than once per year                            OSS is, on average, of HIGHER quality than prop...        8437\n",
       "                                                   OSS is, on average, of LOWER quality than propr...        1867\n",
       "                                                   The quality of OSS and closed source software i...        9776\n",
       "Never                                              OSS is, on average, of HIGHER quality than prop...        8259\n",
       "                                                   OSS is, on average, of LOWER quality than propr...        2542\n",
       "                                                   The quality of OSS and closed source software i...       11115\n",
       "Once a month or more often                         OSS is, on average, of HIGHER quality than prop...        5272\n",
       "                                                   OSS is, on average, of LOWER quality than propr...         727\n",
       "                                                   The quality of OSS and closed source software i...        3782"
      ]
     },
     "execution_count": 28,
     "metadata": {},
     "output_type": "execute_result"
    }
   ],
   "source": [
    "group_oss_quality_hobbyist = df[df.Hobbyist == 'Yes'].filter([\"Respondent\", \"OpenSourcer\", \"OpenSource\"], axis=1).groupby(['OpenSourcer', 'OpenSource']).count()\n",
    "group_oss_quality_hobbyist"
   ]
  },
  {
   "cell_type": "code",
   "execution_count": 29,
   "metadata": {},
   "outputs": [
    {
     "data": {
      "text/html": [
       "<div>\n",
       "<style scoped>\n",
       "    .dataframe tbody tr th:only-of-type {\n",
       "        vertical-align: middle;\n",
       "    }\n",
       "\n",
       "    .dataframe tbody tr th {\n",
       "        vertical-align: top;\n",
       "    }\n",
       "\n",
       "    .dataframe thead th {\n",
       "        text-align: right;\n",
       "    }\n",
       "</style>\n",
       "<table border=\"1\" class=\"dataframe\">\n",
       "  <thead>\n",
       "    <tr style=\"text-align: right;\">\n",
       "      <th></th>\n",
       "      <th></th>\n",
       "      <th>Respondent</th>\n",
       "    </tr>\n",
       "    <tr>\n",
       "      <th>OpenSourcer</th>\n",
       "      <th>OpenSource</th>\n",
       "      <th></th>\n",
       "    </tr>\n",
       "  </thead>\n",
       "  <tbody>\n",
       "    <tr>\n",
       "      <th rowspan=\"3\" valign=\"top\">Less than once a month\\nbut more than once per year</th>\n",
       "      <th>OSS is, on average, of HIGHER quality than proprietary / closed source software</th>\n",
       "      <td>1000</td>\n",
       "    </tr>\n",
       "    <tr>\n",
       "      <th>OSS is, on average, of LOWER quality than proprietary / closed source software</th>\n",
       "      <td>252</td>\n",
       "    </tr>\n",
       "    <tr>\n",
       "      <th>The quality of OSS and closed source software is about the same</th>\n",
       "      <td>1045</td>\n",
       "    </tr>\n",
       "    <tr>\n",
       "      <th rowspan=\"3\" valign=\"top\">Less than once per year</th>\n",
       "      <th>OSS is, on average, of HIGHER quality than proprietary / closed source software</th>\n",
       "      <td>1692</td>\n",
       "    </tr>\n",
       "    <tr>\n",
       "      <th>OSS is, on average, of LOWER quality than proprietary / closed source software</th>\n",
       "      <td>500</td>\n",
       "    </tr>\n",
       "    <tr>\n",
       "      <th>The quality of OSS and closed source software is about the same</th>\n",
       "      <td>2300</td>\n",
       "    </tr>\n",
       "    <tr>\n",
       "      <th rowspan=\"3\" valign=\"top\">Never</th>\n",
       "      <th>OSS is, on average, of HIGHER quality than proprietary / closed source software</th>\n",
       "      <td>3026</td>\n",
       "    </tr>\n",
       "    <tr>\n",
       "      <th>OSS is, on average, of LOWER quality than proprietary / closed source software</th>\n",
       "      <td>1217</td>\n",
       "    </tr>\n",
       "    <tr>\n",
       "      <th>The quality of OSS and closed source software is about the same</th>\n",
       "      <td>4931</td>\n",
       "    </tr>\n",
       "    <tr>\n",
       "      <th rowspan=\"3\" valign=\"top\">Once a month or more often</th>\n",
       "      <th>OSS is, on average, of HIGHER quality than proprietary / closed source software</th>\n",
       "      <td>515</td>\n",
       "    </tr>\n",
       "    <tr>\n",
       "      <th>OSS is, on average, of LOWER quality than proprietary / closed source software</th>\n",
       "      <td>149</td>\n",
       "    </tr>\n",
       "    <tr>\n",
       "      <th>The quality of OSS and closed source software is about the same</th>\n",
       "      <td>442</td>\n",
       "    </tr>\n",
       "  </tbody>\n",
       "</table>\n",
       "</div>"
      ],
      "text/plain": [
       "                                                                                                       Respondent\n",
       "OpenSourcer                                        OpenSource                                                    \n",
       "Less than once a month\\nbut more than once per ... OSS is, on average, of HIGHER quality than prop...        1000\n",
       "                                                   OSS is, on average, of LOWER quality than propr...         252\n",
       "                                                   The quality of OSS and closed source software i...        1045\n",
       "Less than once per year                            OSS is, on average, of HIGHER quality than prop...        1692\n",
       "                                                   OSS is, on average, of LOWER quality than propr...         500\n",
       "                                                   The quality of OSS and closed source software i...        2300\n",
       "Never                                              OSS is, on average, of HIGHER quality than prop...        3026\n",
       "                                                   OSS is, on average, of LOWER quality than propr...        1217\n",
       "                                                   The quality of OSS and closed source software i...        4931\n",
       "Once a month or more often                         OSS is, on average, of HIGHER quality than prop...         515\n",
       "                                                   OSS is, on average, of LOWER quality than propr...         149\n",
       "                                                   The quality of OSS and closed source software i...         442"
      ]
     },
     "execution_count": 29,
     "metadata": {},
     "output_type": "execute_result"
    }
   ],
   "source": [
    "group_oss_quality_nothobbyist = df[df.Hobbyist == 'No'].filter([\"Respondent\", \"OpenSourcer\", \"OpenSource\"], axis=1).groupby(['OpenSourcer', 'OpenSource']).count()\n",
    "oss_quality_perception_groups = [group_oss_quality_hobbyist, group_oss_quality_nothobbyist]\n",
    "group_oss_quality_nothobbyist"
   ]
  },
  {
   "cell_type": "code",
   "execution_count": 30,
   "metadata": {},
   "outputs": [],
   "source": [
    "group_oss_quality_hobbyist = group_oss_quality_hobbyist.reset_index()\n",
    "group_oss_quality_nothobbyist = group_oss_quality_nothobbyist.reset_index()"
   ]
  },
  {
   "cell_type": "code",
   "execution_count": 31,
   "metadata": {},
   "outputs": [
    {
     "data": {
      "image/png": "[encoded data removed]",
      "text/plain": [
       "<Figure size 1008x360 with 2 Axes>"
      ]
     },
     "metadata": {
      "needs_background": "light"
     },
     "output_type": "display_data"
    }
   ],
   "source": [
    "nr_rows = 1\n",
    "nr_cols = 2\n",
    "\n",
    "fig, axs = plt.subplots(nr_rows, nr_cols, figsize=(nr_cols*7,nr_rows*5), squeeze=False, sharex=False)\n",
    "\n",
    "\n",
    "splot1 = utils.plot_grouped_bars(group_oss_quality_hobbyist, \"OpenSourcer\", \"OpenSource\", \"Respondent\",\n",
    "                                 ylabel=\"# Respondents\", ax=axs[0][0], title=\"Hobbyists\", legend=False);\n",
    "splot2 = utils.plot_grouped_bars(group_oss_quality_nothobbyist, \"OpenSourcer\", \"OpenSource\", \"Respondent\",\n",
    "                                 ylabel=\"# Respondents\", ax=axs[0][1], title=\"not Hobbyists\", legend=False);\n",
    "\n",
    "plt.suptitle('Is the OSS quality perception biasing the contribution frequency?', size=14)\n",
    "plt.legend(loc='center left', bbox_to_anchor=(-0.7, -0.5), ncol=1);\n",
    "plt.subplots_adjust(top=.86)\n",
    "plt.show()"
   ]
  },
  {
   "cell_type": "markdown",
   "metadata": {},
   "source": [
    "# <font color='red'>Question </font>\n",
    "<font color='red'>Does the number of years of experience influence the opensource contribution frequency?</font>"
   ]
  },
  {
   "cell_type": "markdown",
   "metadata": {},
   "source": [
    "# Coding Years of experience including Education"
   ]
  },
  {
   "cell_type": "code",
   "execution_count": 32,
   "metadata": {},
   "outputs": [
    {
     "data": {
      "text/plain": [
       "array([nan, '1', 'Less than 1 year', '9', '3', '4', '10', '8', '2', '13',\n",
       "       '18', '5', '14', '22', '23', '19', '35', '20', '25', '7', '15',\n",
       "       '27', '6', '48', '12', '31', '11', '17', '16', '21', '29', '30',\n",
       "       '26', '33', '28', '37', '40', '34', '24', '39', '38', '36', '32',\n",
       "       '41', '45', '43', 'More than 50 years', '44', '42', '46', '49',\n",
       "       '50', '47'], dtype=object)"
      ]
     },
     "execution_count": 32,
     "metadata": {},
     "output_type": "execute_result"
    }
   ],
   "source": [
    "# Check the years of experience unique values\n",
    "df.YearsCodePro.unique()"
   ]
  },
  {
   "cell_type": "markdown",
   "metadata": {},
   "source": [
    "### Map string values of YearsCodePro to numbers to use later for years of experience groups"
   ]
  },
  {
   "cell_type": "code",
   "execution_count": 33,
   "metadata": {},
   "outputs": [
    {
     "data": {
      "text/plain": [
       "array([nan,  1.,  0.,  9.,  3.,  4., 10.,  8.,  2., 13., 18.,  5., 14.,\n",
       "       22., 23., 19., 35., 20., 25.,  7., 15., 27.,  6., 48., 12., 31.,\n",
       "       11., 17., 16., 21., 29., 30., 26., 33., 28., 37., 40., 34., 24.,\n",
       "       39., 38., 36., 32., 41., 45., 43., 51., 44., 42., 46., 49., 50.,\n",
       "       47.])"
      ]
     },
     "execution_count": 33,
     "metadata": {},
     "output_type": "execute_result"
    }
   ],
   "source": [
    "value_map = {'Less than 1 year': '0', 'More than 50 years': '51'}\n",
    "\n",
    "def mapper(val):\n",
    "    \"\"\"\n",
    "    Mapping a string value to an int\n",
    "    :param val(string) value to map\n",
    "    \"\"\"\n",
    "    return  int(value_map.get(val, val))\n",
    "\n",
    "df['YearsCodeProCleaned'] = df['YearsCodePro'].dropna().apply(mapper)\n",
    "df.YearsCodeProCleaned.unique()"
   ]
  },
  {
   "cell_type": "markdown",
   "metadata": {},
   "source": [
    "### Create years of experience ranges"
   ]
  },
  {
   "cell_type": "code",
   "execution_count": 34,
   "metadata": {},
   "outputs": [],
   "source": [
    "tmp = [0, 5, 10, 20, 40, 55]\n",
    "ranges = list(zip(tmp, tmp[1:]))\n",
    "ranges\n",
    "def in_the_range(ranges_):\n",
    "    \"\"\"\n",
    "    Map value to a range if it is inside it\n",
    "    \"\"\"\n",
    "    def f(x):\n",
    "        i = 0\n",
    "        while i < len(ranges_):\n",
    "            r = ranges[i]\n",
    "            if (x >= r[0]) and (x < r[1]):\n",
    "                if r[0] == 40:\n",
    "                    return  '>40'\n",
    "                else:\n",
    "                    return f'{r[0]} - {r[1]}'\n",
    "            i += 1\n",
    "        return f'>{r[1]}'\n",
    "    return f"
   ]
  },
  {
   "cell_type": "code",
   "execution_count": 35,
   "metadata": {},
   "outputs": [
    {
     "data": {
      "text/plain": [
       "0           NaN\n",
       "1           NaN\n",
       "2         0 - 5\n",
       "3         0 - 5\n",
       "4        5 - 10\n",
       "          ...  \n",
       "88878       NaN\n",
       "88879       NaN\n",
       "88880       NaN\n",
       "88881       NaN\n",
       "88882     0 - 5\n",
       "Name: Years of experience, Length: 88883, dtype: object"
      ]
     },
     "execution_count": 35,
     "metadata": {},
     "output_type": "execute_result"
    }
   ],
   "source": [
    "df['Years of experience'] = (df['YearsCodeProCleaned'].dropna()).apply(in_the_range(ranges))\n",
    "df['Years of experience']"
   ]
  },
  {
   "cell_type": "code",
   "execution_count": 36,
   "metadata": {},
   "outputs": [
    {
     "data": {
      "image/png": "[encoded data removed]",
      "text/plain": [
       "<Figure size 432x288 with 1 Axes>"
      ]
     },
     "metadata": {
      "needs_background": "light"
     },
     "output_type": "display_data"
    }
   ],
   "source": [
    "(df['Years of experience'].value_counts()/ df[\"Years of experience\"].count()).plot(\n",
    "    kind=\"bar\", title=\"Coding Years of experience including Education\");"
   ]
  },
  {
   "cell_type": "markdown",
   "metadata": {},
   "source": [
    "### Group the respondents by Years of Experience ranges and OSS contribution frequency"
   ]
  },
  {
   "cell_type": "code",
   "execution_count": 37,
   "metadata": {},
   "outputs": [
    {
     "data": {
      "text/html": [
       "<div>\n",
       "<style scoped>\n",
       "    .dataframe tbody tr th:only-of-type {\n",
       "        vertical-align: middle;\n",
       "    }\n",
       "\n",
       "    .dataframe tbody tr th {\n",
       "        vertical-align: top;\n",
       "    }\n",
       "\n",
       "    .dataframe thead th {\n",
       "        text-align: right;\n",
       "    }\n",
       "</style>\n",
       "<table border=\"1\" class=\"dataframe\">\n",
       "  <thead>\n",
       "    <tr style=\"text-align: right;\">\n",
       "      <th></th>\n",
       "      <th></th>\n",
       "      <th>Respondent</th>\n",
       "    </tr>\n",
       "    <tr>\n",
       "      <th>Years of experience</th>\n",
       "      <th>OpenSourcer</th>\n",
       "      <th></th>\n",
       "    </tr>\n",
       "  </thead>\n",
       "  <tbody>\n",
       "    <tr>\n",
       "      <th rowspan=\"4\" valign=\"top\">0 - 5</th>\n",
       "      <th>Less than once a month\\nbut more than once per year</th>\n",
       "      <td>6428</td>\n",
       "    </tr>\n",
       "    <tr>\n",
       "      <th>Less than once per year</th>\n",
       "      <td>8329</td>\n",
       "    </tr>\n",
       "    <tr>\n",
       "      <th>Never</th>\n",
       "      <td>12508</td>\n",
       "    </tr>\n",
       "    <tr>\n",
       "      <th>Once a month or more often</th>\n",
       "      <td>3239</td>\n",
       "    </tr>\n",
       "    <tr>\n",
       "      <th rowspan=\"4\" valign=\"top\">10 - 20</th>\n",
       "      <th>Less than once a month\\nbut more than once per year</th>\n",
       "      <td>4327</td>\n",
       "    </tr>\n",
       "    <tr>\n",
       "      <th>Less than once per year</th>\n",
       "      <td>5090</td>\n",
       "    </tr>\n",
       "    <tr>\n",
       "      <th>Never</th>\n",
       "      <td>4660</td>\n",
       "    </tr>\n",
       "    <tr>\n",
       "      <th>Once a month or more often</th>\n",
       "      <td>2186</td>\n",
       "    </tr>\n",
       "    <tr>\n",
       "      <th rowspan=\"4\" valign=\"top\">20 - 40</th>\n",
       "      <th>Less than once a month\\nbut more than once per year</th>\n",
       "      <td>1749</td>\n",
       "    </tr>\n",
       "    <tr>\n",
       "      <th>Less than once per year</th>\n",
       "      <td>2247</td>\n",
       "    </tr>\n",
       "    <tr>\n",
       "      <th>Never</th>\n",
       "      <td>2183</td>\n",
       "    </tr>\n",
       "    <tr>\n",
       "      <th>Once a month or more often</th>\n",
       "      <td>1018</td>\n",
       "    </tr>\n",
       "    <tr>\n",
       "      <th rowspan=\"4\" valign=\"top\">5 - 10</th>\n",
       "      <th>Less than once a month\\nbut more than once per year</th>\n",
       "      <td>5331</td>\n",
       "    </tr>\n",
       "    <tr>\n",
       "      <th>Less than once per year</th>\n",
       "      <td>6045</td>\n",
       "    </tr>\n",
       "    <tr>\n",
       "      <th>Never</th>\n",
       "      <td>6194</td>\n",
       "    </tr>\n",
       "    <tr>\n",
       "      <th>Once a month or more often</th>\n",
       "      <td>2454</td>\n",
       "    </tr>\n",
       "    <tr>\n",
       "      <th rowspan=\"4\" valign=\"top\">&gt;40</th>\n",
       "      <th>Less than once a month\\nbut more than once per year</th>\n",
       "      <td>64</td>\n",
       "    </tr>\n",
       "    <tr>\n",
       "      <th>Less than once per year</th>\n",
       "      <td>109</td>\n",
       "    </tr>\n",
       "    <tr>\n",
       "      <th>Never</th>\n",
       "      <td>122</td>\n",
       "    </tr>\n",
       "    <tr>\n",
       "      <th>Once a month or more often</th>\n",
       "      <td>48</td>\n",
       "    </tr>\n",
       "  </tbody>\n",
       "</table>\n",
       "</div>"
      ],
      "text/plain": [
       "                                                                        Respondent\n",
       "Years of experience OpenSourcer                                                   \n",
       "0 - 5               Less than once a month\\nbut more than once per ...        6428\n",
       "                    Less than once per year                                   8329\n",
       "                    Never                                                    12508\n",
       "                    Once a month or more often                                3239\n",
       "10 - 20             Less than once a month\\nbut more than once per ...        4327\n",
       "                    Less than once per year                                   5090\n",
       "                    Never                                                     4660\n",
       "                    Once a month or more often                                2186\n",
       "20 - 40             Less than once a month\\nbut more than once per ...        1749\n",
       "                    Less than once per year                                   2247\n",
       "                    Never                                                     2183\n",
       "                    Once a month or more often                                1018\n",
       "5 - 10              Less than once a month\\nbut more than once per ...        5331\n",
       "                    Less than once per year                                   6045\n",
       "                    Never                                                     6194\n",
       "                    Once a month or more often                                2454\n",
       ">40                 Less than once a month\\nbut more than once per ...          64\n",
       "                    Less than once per year                                    109\n",
       "                    Never                                                      122\n",
       "                    Once a month or more often                                  48"
      ]
     },
     "execution_count": 37,
     "metadata": {},
     "output_type": "execute_result"
    }
   ],
   "source": [
    "# df.loc[df['YearsCodeProCleaned'] < 5, 'YearsCodeProCleaned'] = \"<5\"\n",
    "opensourcers_by_age = df.filter([\"Respondent\", \"OpenSourcer\", \"Years of experience\"], axis=1).\\\n",
    "    groupby([\"Years of experience\", \"OpenSourcer\"]).count()\n",
    "opensourcers_by_age"
   ]
  },
  {
   "cell_type": "code",
   "execution_count": 38,
   "metadata": {},
   "outputs": [],
   "source": [
    "opensourcers_by_age = opensourcers_by_age.reset_index()"
   ]
  },
  {
   "cell_type": "code",
   "execution_count": 39,
   "metadata": {},
   "outputs": [
    {
     "data": {
      "image/png": "[encoded data removed]",
      "text/plain": [
       "<Figure size 432x288 with 1 Axes>"
      ]
     },
     "metadata": {
      "needs_background": "light"
     },
     "output_type": "display_data"
    }
   ],
   "source": [
    "splot = utils.plot_grouped_bars(opensourcers_by_age, \"OpenSourcer\", \"Years of experience\", \"Respondent\",\n",
    "                        xlabel=\"\", ylabel=\"# Respondents\");\n",
    "plt.title(\"Frequency of contribution to OSS and years of experience groups\", size=13,\n",
    "          fontweight='light')\n",
    "splot.legend(loc='center left', bbox_to_anchor=(1.00, 0.5), ncol=1);\n",
    "plt.show()"
   ]
  },
  {
   "cell_type": "markdown",
   "metadata": {},
   "source": [
    "# <font color='red'>Question 5</font>\n",
    "<font color='red'>Do developers contributing to the OSS have a higher income? </font>"
   ]
  },
  {
   "cell_type": "code",
   "execution_count": 40,
   "metadata": {},
   "outputs": [
    {
     "data": {
      "text/plain": [
       "count    5.594500e+04\n",
       "mean     5.519014e+11\n",
       "std      7.331926e+13\n",
       "min      0.000000e+00\n",
       "25%      2.000000e+04\n",
       "50%      6.200000e+04\n",
       "75%      1.200000e+05\n",
       "max      1.000000e+16\n",
       "Name: CompTotal, dtype: float64"
      ]
     },
     "execution_count": 40,
     "metadata": {},
     "output_type": "execute_result"
    }
   ],
   "source": [
    "# Summarize the central tendency, dispersion and shape of the dataset’s distribution, excluding NaN values.\n",
    "df.CompTotal.describe()"
   ]
  },
  {
   "cell_type": "code",
   "execution_count": 41,
   "metadata": {},
   "outputs": [
    {
     "data": {
      "text/plain": [
       "62000.0"
      ]
     },
     "execution_count": 41,
     "metadata": {},
     "output_type": "execute_result"
    }
   ],
   "source": [
    "median_salaries = np.median(df.CompTotal.dropna().values)\n",
    "median_salaries"
   ]
  },
  {
   "cell_type": "code",
   "execution_count": 42,
   "metadata": {},
   "outputs": [
    {
     "data": {
      "text/plain": [
       "Respondent                -1.200000\n",
       "CompTotal              18551.717402\n",
       "ConvertedComp             26.195623\n",
       "WorkWeekHrs             8272.445241\n",
       "CodeRevHrs                70.322650\n",
       "Age                        3.127265\n",
       "YearsCodeProCleaned        3.309610\n",
       "dtype: float64"
      ]
     },
     "execution_count": 42,
     "metadata": {},
     "output_type": "execute_result"
    }
   ],
   "source": [
    "# Kurtosis to measure whether the distribution is too peaked.\n",
    "df.kurtosis(axis = 0, skipna = True)"
   ]
  },
  {
   "cell_type": "code",
   "execution_count": 43,
   "metadata": {},
   "outputs": [
    {
     "data": {
      "image/png": "[encoded data removed]",
      "text/plain": [
       "<Figure size 432x288 with 1 Axes>"
      ]
     },
     "metadata": {
      "needs_background": "light"
     },
     "output_type": "display_data"
    }
   ],
   "source": [
    "# Outliers are massively skewing the data. Removing them to get a better interpretation of the remaining data\n",
    "sns.distplot(df.query('CompTotal<{}'.format(median_salaries*20)).CompTotal.dropna()) #, bins=10000);\n",
    "plt.xlabel(\"Salary\")\n",
    "plt.ylabel(\"Density\")\n",
    "plt.title(\"Developers salary distribution\");"
   ]
  },
  {
   "cell_type": "code",
   "execution_count": 44,
   "metadata": {},
   "outputs": [
    {
     "data": {
      "text/plain": [
       "53533"
      ]
     },
     "execution_count": 44,
     "metadata": {},
     "output_type": "execute_result"
    }
   ],
   "source": [
    "salary_data = df.filter([\"Respondent\", \"OpenSourcer\", \"Hobbyist\" , \"CompTotal\"], axis=1)\n",
    "salary_data = salary_data[salary_data.CompTotal < median_salaries * 20]\n",
    "salary_data.shape[0]"
   ]
  },
  {
   "cell_type": "code",
   "execution_count": 45,
   "metadata": {},
   "outputs": [
    {
     "data": {
      "text/plain": [
       "55945"
      ]
     },
     "execution_count": 45,
     "metadata": {},
     "output_type": "execute_result"
    }
   ],
   "source": [
    "# Number of Data points with salary outliers\n",
    "df.CompTotal.count()"
   ]
  },
  {
   "cell_type": "code",
   "execution_count": 46,
   "metadata": {},
   "outputs": [
    {
     "data": {
      "text/plain": [
       "53533"
      ]
     },
     "execution_count": 46,
     "metadata": {},
     "output_type": "execute_result"
    }
   ],
   "source": [
    "# Number of Salary Data points without outliers\n",
    "(df.CompTotal.dropna().values < median_salaries * 20).sum()"
   ]
  },
  {
   "cell_type": "code",
   "execution_count": 47,
   "metadata": {},
   "outputs": [
    {
     "data": {
      "text/html": [
       "<div>\n",
       "<style scoped>\n",
       "    .dataframe tbody tr th:only-of-type {\n",
       "        vertical-align: middle;\n",
       "    }\n",
       "\n",
       "    .dataframe tbody tr th {\n",
       "        vertical-align: top;\n",
       "    }\n",
       "\n",
       "    .dataframe thead th {\n",
       "        text-align: right;\n",
       "    }\n",
       "</style>\n",
       "<table border=\"1\" class=\"dataframe\">\n",
       "  <thead>\n",
       "    <tr style=\"text-align: right;\">\n",
       "      <th></th>\n",
       "      <th>OpenSourcer</th>\n",
       "      <th>CompTotal</th>\n",
       "      <th>mean_salary_formatted</th>\n",
       "    </tr>\n",
       "  </thead>\n",
       "  <tbody>\n",
       "    <tr>\n",
       "      <th>0</th>\n",
       "      <td>Less than once a month\\nbut more than once per...</td>\n",
       "      <td>105824.852658</td>\n",
       "      <td>105,824.85</td>\n",
       "    </tr>\n",
       "    <tr>\n",
       "      <th>1</th>\n",
       "      <td>Less than once per year</td>\n",
       "      <td>99803.203081</td>\n",
       "      <td>99,803.20</td>\n",
       "    </tr>\n",
       "    <tr>\n",
       "      <th>2</th>\n",
       "      <td>Never</td>\n",
       "      <td>93806.636620</td>\n",
       "      <td>93,806.64</td>\n",
       "    </tr>\n",
       "    <tr>\n",
       "      <th>3</th>\n",
       "      <td>Once a month or more often</td>\n",
       "      <td>115656.535993</td>\n",
       "      <td>115,656.54</td>\n",
       "    </tr>\n",
       "  </tbody>\n",
       "</table>\n",
       "</div>"
      ],
      "text/plain": [
       "                                         OpenSourcer      CompTotal  \\\n",
       "0  Less than once a month\\nbut more than once per...  105824.852658   \n",
       "1                            Less than once per year   99803.203081   \n",
       "2                                              Never   93806.636620   \n",
       "3                         Once a month or more often  115656.535993   \n",
       "\n",
       "  mean_salary_formatted  \n",
       "0            105,824.85  \n",
       "1             99,803.20  \n",
       "2             93,806.64  \n",
       "3            115,656.54  "
      ]
     },
     "execution_count": 47,
     "metadata": {},
     "output_type": "execute_result"
    }
   ],
   "source": [
    "salary_data = salary_data.groupby(['OpenSourcer']).agg(CompTotal =(\"CompTotal\",'mean'))\n",
    "#  data.groupby(['OpenSourcer', 'Hobbyist']).agg(mean_salary =(\"CompTotal\",'mean'))\n",
    "# groupby('StationID', as_index=False)['BiasTemp'].mean()\n",
    "salary_data[\"mean_salary_formatted\"] = salary_data[\"CompTotal\"].apply(lambda x: '{:,.2f}'.format(x)).values.tolist()\n",
    "salary_data = salary_data.reset_index()\n",
    "# salary_data['Hobbyist'].replace({\"No\": \"Don't code as a Hobby\",\n",
    "#                                 \"Yes\": \"Code as a Hobby\"}, inplace=True)\n",
    "\n",
    "salary_data"
   ]
  },
  {
   "cell_type": "code",
   "execution_count": 48,
   "metadata": {},
   "outputs": [
    {
     "data": {
      "image/png": "[encoded data removed]",
      "text/plain": [
       "<Figure size 360x288 with 1 Axes>"
      ]
     },
     "metadata": {
      "needs_background": "light"
     },
     "output_type": "display_data"
    }
   ],
   "source": [
    "plt.figure(figsize=(5, 4))\n",
    "splot = sns.barplot(x=\"OpenSourcer\", y=\"CompTotal\",\n",
    "                      data=salary_data,  palette=\"Blues_d\", capsize=0.1)\n",
    "# utils.plot_grouped_bars(salary_data, \"OpenSourcer\", \"Hobbyist\", \"CompTotal\",\n",
    "#                   title=\"What is the average salary of Open Sourcers?\",\n",
    "#                         xlabel=\"\", ylabel=\"# Respondents\")\n",
    "# splot.legend(loc='center left', bbox_to_anchor=(1.00, 0.5), ncol=1);\n",
    "plt.ylabel(\"Mean Salary\", size=8, fontweight='light')\n",
    "plt.xlabel(\"Freq. of contribution to OSS\")\n",
    "plt.xticks(rotation=50, size=8)\n",
    "# plt.tight_layout()\n",
    "plt.title(\"What is the average salary of Open Sourcers?\",\n",
    "          size=11, fontweight='light')\n",
    "\n",
    "for p in splot.patches:\n",
    "    splot.annotate(format(round(p.get_height() / 1000), '.0f') + \"K\", (p.get_x()+0.3, p.get_height()),\n",
    "        ha='center', va='center', \n",
    "        size=10, xytext=(0, -12),\n",
    "        textcoords='offset points', color='black')\n",
    "plt.show()"
   ]
  },
  {
   "cell_type": "code",
   "execution_count": null,
   "metadata": {},
   "outputs": [],
   "source": []
  },
  {
   "cell_type": "code",
   "execution_count": null,
   "metadata": {},
   "outputs": [],
   "source": []
  }
 ],
 "metadata": {
  "kernelspec": {
   "display_name": "Python 3",
   "language": "python",
   "name": "python3"
  },
  "language_info": {
   "codemirror_mode": {
    "name": "ipython",
    "version": 3
   },
   "file_extension": ".py",
   "mimetype": "text/x-python",
   "name": "python",
   "nbconvert_exporter": "python",
   "pygments_lexer": "ipython3",
   "version": "3.7.6"
  }
 },
 "nbformat": 4,
 "nbformat_minor": 4
}
